{
 "cells": [
  {
   "cell_type": "markdown",
   "metadata": {},
   "source": [
    "# DANTE PUDDU - 21665/6 - 45.913.150 - Turno: Mañana"
   ]
  },
  {
   "cell_type": "markdown",
   "metadata": {},
   "source": [
    "#### Estas son las **variables** con las que vamos a trabajar en el ejercicio: "
   ]
  },
  {
   "cell_type": "code",
   "execution_count": 19,
   "metadata": {},
   "outputs": [],
   "source": [
    "names = \"\"\"Agustin, Yanina, Andrés, Ariadna, Bautista, CAROLINA, CESAR, David, Diego, Dolores, DYLAN, ELIANA, Emanuel, Fabián, Noelia, Francsica, FEDERICO, Fernanda, GONZALO, Nancy\"\"\"\n",
    "goals = [0, 10, 4, 0, 5, 14, 0, 0, 7, 2, 1, 1, 1, 5, 6, 1, 1, 2, 0, 11]\n",
    "goals_avoided = [0, 2, 0, 0, 5, 2, 0, 0, 1, 2, 0, 5, 5, 0, 1, 0, 2, 3, 0, 0]\n",
    "assists = [0, 5, 1, 0, 5, 2, 0, 0, 1, 2, 1, 5, 5, 0, 1, 0, 2, 3, 1, 0]\n",
    "\n",
    "\n",
    "\n",
    "split_names = names.split(', ')"
   ]
  },
  {
   "cell_type": "markdown",
   "metadata": {},
   "source": [
    "Importamos las funciones para poder utilizarlas."
   ]
  },
  {
   "cell_type": "code",
   "execution_count": 20,
   "metadata": {},
   "outputs": [],
   "source": [
    "import funciones"
   ]
  },
  {
   "cell_type": "markdown",
   "metadata": {},
   "source": [
    "## **Inciso A:**\n",
    "##### - Generar una estructura todas las estadísticas asociadas a cada jugador o jugadora."
   ]
  },
  {
   "cell_type": "code",
   "execution_count": 21,
   "metadata": {},
   "outputs": [],
   "source": [
    "stats = funciones.GetStats(split_names,goals,goals_avoided,assists)"
   ]
  },
  {
   "cell_type": "markdown",
   "metadata": {},
   "source": [
    "Probamos con print para ver si devuelve una tupla armada con tuplas adentro."
   ]
  },
  {
   "cell_type": "code",
   "execution_count": 22,
   "metadata": {},
   "outputs": [
    {
     "name": "stdout",
     "output_type": "stream",
     "text": [
      "(('agustin', 0, 0, 0), ('yanina', 10, 2, 5), ('andrés', 4, 0, 1), ('ariadna', 0, 0, 0), ('bautista', 5, 5, 5), ('carolina', 14, 2, 2), ('cesar', 0, 0, 0), ('david', 0, 0, 0), ('diego', 7, 1, 1), ('dolores', 2, 2, 2), ('dylan', 1, 0, 1), ('eliana', 1, 5, 5), ('emanuel', 1, 5, 5), ('fabián', 5, 0, 0), ('noelia', 6, 1, 1), ('francsica', 1, 0, 0), ('federico', 1, 2, 2), ('fernanda', 2, 3, 3), ('gonzalo', 0, 0, 1), ('nancy', 11, 0, 0))\n"
     ]
    }
   ],
   "source": [
    "print(stats)"
   ]
  },
  {
   "cell_type": "markdown",
   "metadata": {},
   "source": [
    "## **Inciso B:**\n",
    "##### - Conocer el nombre y la cantidad de goles del goleador o goleadora."
   ]
  },
  {
   "cell_type": "code",
   "execution_count": 23,
   "metadata": {},
   "outputs": [
    {
     "name": "stdout",
     "output_type": "stream",
     "text": [
      "El jugador con mas goles es: carolina con 14 goles.\n"
     ]
    }
   ],
   "source": [
    "goleador = funciones.GetGoleador(stats)\n",
    "print(f\"El jugador con mas goles es: {goleador[0]} con {goleador[1]} goles.\")"
   ]
  },
  {
   "cell_type": "markdown",
   "metadata": {},
   "source": [
    "## **Inciso C:**\n",
    "##### - Conocer el nombre del jugador o jugadora más influyente, esto se consigue sumando goles a favor, goles evitados y cantidad de asistencias. La particularidad es que los goles a favor, evitados y las asistencias NO valen lo mismo (es un promedio ponderado):\n",
    "\n",
    "- Valores:\n",
    "    - Goles a favor: 1.5\n",
    "    - Goles en evitados: 1.25\n",
    "    - Asistencias: 1\n"
   ]
  },
  {
   "cell_type": "code",
   "execution_count": 24,
   "metadata": {},
   "outputs": [
    {
     "name": "stdout",
     "output_type": "stream",
     "text": [
      "El jugador mas influyente es: carolina con 25.5 puntos.\n"
     ]
    }
   ],
   "source": [
    "influyent = funciones.GetMostInfluential(stats)\n",
    "print(f\"El jugador mas influyente es: {influyent[0]} con {influyent[1]*1.5+influyent[2]*1.25+influyent[3]} puntos.\")"
   ]
  },
  {
   "cell_type": "markdown",
   "metadata": {},
   "source": [
    "## **Inciso D:**\n",
    "##### - Conocer el promedio de goles por partido del equipo en general. Dato: Se jugaron 25 partidos en la temporada."
   ]
  },
  {
   "cell_type": "markdown",
   "metadata": {},
   "source": [
    "Primero declaro una constante para el inciso D Y E, el cual es de 25 por la cantidad de partidos."
   ]
  },
  {
   "cell_type": "code",
   "execution_count": 25,
   "metadata": {},
   "outputs": [],
   "source": [
    "MATCHES = 25"
   ]
  },
  {
   "cell_type": "code",
   "execution_count": 26,
   "metadata": {},
   "outputs": [
    {
     "name": "stdout",
     "output_type": "stream",
     "text": [
      "El promedio de goles en 25 partidos es de 2.84\n"
     ]
    }
   ],
   "source": [
    "average = funciones.GetGoalsAverage(goals,MATCHES)\n",
    "print(f'El promedio de goles en 25 partidos es de {average}')"
   ]
  },
  {
   "cell_type": "markdown",
   "metadata": {},
   "source": [
    "## **Inciso E:**\n",
    "##### - Conocer el promedio de goles por partido del goleador o goleadora. Dato: Se jugaron 25 partidos en la temporada."
   ]
  },
  {
   "cell_type": "code",
   "execution_count": 27,
   "metadata": {},
   "outputs": [
    {
     "name": "stdout",
     "output_type": "stream",
     "text": [
      "El promedio de goles del goleador en 25 partidos es de 0.56\n"
     ]
    }
   ],
   "source": [
    "goleador_average = funciones.GetGoleadorGoalsAverage(goleador[1],MATCHES)\n",
    "print(f'El promedio de goles del goleador en 25 partidos es de {goleador_average}')"
   ]
  }
 ],
 "metadata": {
  "kernelspec": {
   "display_name": "Python 3",
   "language": "python",
   "name": "python3"
  },
  "language_info": {
   "codemirror_mode": {
    "name": "ipython",
    "version": 3
   },
   "file_extension": ".py",
   "mimetype": "text/x-python",
   "name": "python",
   "nbconvert_exporter": "python",
   "pygments_lexer": "ipython3",
   "version": "3.12.2"
  }
 },
 "nbformat": 4,
 "nbformat_minor": 2
}
