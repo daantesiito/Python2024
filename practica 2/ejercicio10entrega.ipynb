{
 "cells": [
  {
   "cell_type": "markdown",
   "metadata": {},
   "source": [
    "# DANTE PUDDU - 21665/6 - 45.913.150 - Turno: Mañana"
   ]
  },
  {
   "cell_type": "markdown",
   "metadata": {},
   "source": [
    "#### Estas son las **variables** con las que vamos a trabajar en el ejercicio: "
   ]
  },
  {
   "cell_type": "code",
   "execution_count": null,
   "metadata": {},
   "outputs": [],
   "source": [
    "names = \"\"\"Agustin, Yanina, Andrés, Ariadna, Bautista, CAROLINA, CESAR, David, Diego, Dolores, DYLAN, ELIANA, Emanuel, Fabián, Noelia, Francsica, FEDERICO, Fernanda, GONZALO, Nancy \"\"\"\n",
    "goals = [0, 10, 4, 0, 5, 14, 0, 0, 7, 2, 1, 1, 1, 5, 6, 1, 1, 2, 0, 11]\n",
    "goals_avoided = [0, 2, 0, 0, 5, 2, 0, 0, 1, 2, 0, 5, 5, 0, 1, 0, 2, 3, 0, 0]\n",
    "assists = [0, 5, 1, 0, 5, 2, 0, 0, 1, 2, 1, 5, 5, 0, 1, 0, 2, 3, 1, 0]\n",
    "\n",
    "split_names = names.split(', ')"
   ]
  },
  {
   "cell_type": "markdown",
   "metadata": {},
   "source": [
    "## **Inciso A:**\n",
    "##### - Generar una estructura todas las estadísticas asociadas a cada jugador o jugadora."
   ]
  },
  {
   "cell_type": "code",
   "execution_count": null,
   "metadata": {},
   "outputs": [],
   "source": [
    "def GetStats(split_names, goals, goals_avoided, assists):\n",
    "    stats = tuple(zip(map(str.lower, split_names), goals, goals_avoided, assists))\n",
    "    return stats"
   ]
  },
  {
   "cell_type": "code",
   "execution_count": null,
   "metadata": {},
   "outputs": [],
   "source": [
    "stats = GetStats(split_names,goals,goals_avoided,assists)\n",
    "print(stats)"
   ]
  },
  {
   "cell_type": "markdown",
   "metadata": {},
   "source": [
    "## **Inciso B:**\n",
    "##### - Conocer el nombre y la cantidad de goles del goleador o goleadora."
   ]
  },
  {
   "cell_type": "code",
   "execution_count": null,
   "metadata": {},
   "outputs": [],
   "source": [
    "def GetGoleador(stats):\n",
    "    return max(stats, key=lambda player: player[1])"
   ]
  },
  {
   "cell_type": "code",
   "execution_count": null,
   "metadata": {},
   "outputs": [],
   "source": [
    "goleador = GetGoleador(stats)\n",
    "print(f\"El jugador con mas goles es: {goleador[0]} con {goleador[1]} goles.\")"
   ]
  },
  {
   "cell_type": "markdown",
   "metadata": {},
   "source": [
    "## **Inciso C:**\n",
    "##### - Conocer el nombre del jugador o jugadora más influyente, esto se consigue sumando goles a favor, goles evitados y cantidad de asistencias. La particularidad es que los goles a favor, evitados y las asistencias NO valen lo mismo (es un promedio ponderado):\n",
    "\n",
    "- Valores:\n",
    "    - Goles a favor: 1.5\n",
    "    - Goles en evitados: 1.25\n",
    "    - Asistencias: 1\n"
   ]
  },
  {
   "cell_type": "code",
   "execution_count": null,
   "metadata": {},
   "outputs": [],
   "source": [
    "def GetMostInfluential(stats):\n",
    "    return max(stats, key=lambda player: player[1] * 1.5 + player[2] * 1.25 + player[3])"
   ]
  },
  {
   "cell_type": "code",
   "execution_count": null,
   "metadata": {},
   "outputs": [],
   "source": [
    "influyent = GetMostInfluential(stats)\n",
    "print(f\"El jugador mas influyente es: {influyent[0]} con {influyent[1]*1.5+influyent[2]*1.25+influyent[3]} puntos.\")"
   ]
  },
  {
   "cell_type": "markdown",
   "metadata": {},
   "source": [
    "## **Inciso D:**\n",
    "##### - Conocer el promedio de goles por partido del equipo en general. Dato: Se jugaron 25 partidos en la temporada."
   ]
  },
  {
   "cell_type": "code",
   "execution_count": null,
   "metadata": {},
   "outputs": [],
   "source": [
    "def GetGoalsAverage(goals):\n",
    "    total_goals = sum(goals)\n",
    "    average = lambda x: x / 25\n",
    "    return average(total_goals)"
   ]
  },
  {
   "cell_type": "code",
   "execution_count": null,
   "metadata": {},
   "outputs": [],
   "source": [
    "average = GetGoalsAverage(goals)\n",
    "print(f'El promedio de goles en 25 partidos es de {average}')"
   ]
  },
  {
   "cell_type": "markdown",
   "metadata": {},
   "source": [
    "## **Inciso E:**\n",
    "##### - Conocer el promedio de goles por partido del goleador o goleadora. Dato: Se jugaron 25 partidos en la temporada."
   ]
  },
  {
   "cell_type": "code",
   "execution_count": null,
   "metadata": {},
   "outputs": [],
   "source": [
    "def GetGoleadorGoalsAverage(goals_scored):\n",
    "    average = lambda x: x / 25\n",
    "    return average(goals_scored)"
   ]
  },
  {
   "cell_type": "code",
   "execution_count": null,
   "metadata": {},
   "outputs": [],
   "source": [
    "goleador_average = GetGoleadorGoalsAverage(goleador[1])\n",
    "print(f'El promedio de goles del goleador en 25 partidos es de {goleador_average}')"
   ]
  }
 ],
 "metadata": {
  "kernelspec": {
   "display_name": "Python 3",
   "language": "python",
   "name": "python3"
  },
  "language_info": {
   "codemirror_mode": {
    "name": "ipython",
    "version": 3
   },
   "file_extension": ".py",
   "mimetype": "text/x-python",
   "name": "python",
   "nbconvert_exporter": "python",
   "pygments_lexer": "ipython3",
   "version": "3.12.2"
  }
 },
 "nbformat": 4,
 "nbformat_minor": 2
}
